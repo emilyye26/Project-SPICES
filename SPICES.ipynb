{
  "nbformat": 4,
  "nbformat_minor": 0,
  "metadata": {
    "colab": {
      "provenance": [],
      "include_colab_link": true
    },
    "kernelspec": {
      "name": "python3",
      "display_name": "Python 3"
    },
    "language_info": {
      "name": "python"
    }
  },
  "cells": [
    {
      "cell_type": "markdown",
      "metadata": {
        "id": "view-in-github",
        "colab_type": "text"
      },
      "source": [
        "<a href=\"https://colab.research.google.com/github/emilyye26/Project-SPICES/blob/main/SPICES.ipynb\" target=\"_parent\"><img src=\"https://colab.research.google.com/assets/colab-badge.svg\" alt=\"Open In Colab\"/></a>"
      ]
    },
    {
      "cell_type": "code",
      "source": [
        "import os\n",
        "import pandas as pd\n",
        "import numpy as np\n",
        "from scipy import stats\n",
        "%matplotlib inline\n",
        "import matplotlib.pyplot as plt\n",
        "import seaborn as sns"
      ],
      "metadata": {
        "id": "Q1oKSyncvJDA"
      },
      "execution_count": null,
      "outputs": []
    },
    {
      "cell_type": "code",
      "execution_count": null,
      "metadata": {
        "colab": {
          "base_uri": "https://localhost:8080/"
        },
        "id": "1keXUpNxtM1P",
        "outputId": "abd85631-0895-4b1b-9968-4dd3df8d2004"
      },
      "outputs": [
        {
          "output_type": "stream",
          "name": "stdout",
          "text": [
            "Drive already mounted at /content/drive; to attempt to forcibly remount, call drive.mount(\"/content/drive\", force_remount=True).\n"
          ]
        }
      ],
      "source": [
        "from google.colab import drive\n",
        "drive.mount('/content/drive')\n"
      ]
    },
    {
      "cell_type": "code",
      "source": [
        "# MIDUS NSDE Dataset\n",
        "file_path = '/content/drive/My Drive/03725-0001-Data.tsv'\n",
        "df = pd.read_csv(file_path, delimiter='\\t')\n"
      ],
      "metadata": {
        "colab": {
          "base_uri": "https://localhost:8080/"
        },
        "id": "BlFs_71ftUFs",
        "outputId": "6ffbadeb-6179-40fa-ee9a-8d43165cbde6"
      },
      "execution_count": null,
      "outputs": [
        {
          "output_type": "stream",
          "name": "stderr",
          "text": [
            "<ipython-input-19-ab1b94667be8>:3: DtypeWarning: Columns (7,8) have mixed types. Specify dtype option on import or set low_memory=False.\n",
            "  df = pd.read_csv(file_path, delimiter='\\t')\n"
          ]
        }
      ]
    },
    {
      "cell_type": "code",
      "source": [
        "df.head()"
      ],
      "metadata": {
        "colab": {
          "base_uri": "https://localhost:8080/",
          "height": 255
        },
        "id": "Yv-XdMPhtld-",
        "outputId": "64fb1be9-d621-4f2d-e58a-73bf42496b11"
      },
      "execution_count": null,
      "outputs": [
        {
          "output_type": "execute_result",
          "data": {
            "text/plain": [
              "    M2ID  M2FAMNUM  SAMPLMAJ  A1PAGE_M2  B1PGENDER  A2DIDDAY  A2DDAY A2DIYEAR  \\\n",
              "0  10013    100004         1         27          1    100131       1     1996   \n",
              "1  10013    100004         1         27          1    100132       2     1996   \n",
              "2  10013    100004         1         27          1    100134       4     1996   \n",
              "3  10013    100004         1         27          1    100137       7     1996   \n",
              "4  10013    100004         1         27          1    100138       8     1996   \n",
              "\n",
              "  A2DIMON  A2DAMPM  ...  A2DSYMAV  A2DSEVAV  A2DXFCAV  A2DXFDAV  A2DXFEAV  \\\n",
              "0       8        1  ...       0.0       8.0       8.0       8.0       8.0   \n",
              "1       8        1  ...       0.2       2.0       2.0       8.0       8.0   \n",
              "2       8        1  ...       0.0       8.0       8.0       8.0       8.0   \n",
              "3       8        1  ...       0.0       8.0       8.0       8.0       8.0   \n",
              "4       8        1  ...       0.4       8.0       8.0       8.0       8.0   \n",
              "\n",
              "   A2DXFFAV  A2DXFGAV  A2DXFHAV  A2DXFIAV  A2DXFJAV  \n",
              "0       8.0       8.0       8.0       8.0       8.0  \n",
              "1       8.0       8.0       8.0       8.0       8.0  \n",
              "2       8.0       8.0       8.0       8.0       8.0  \n",
              "3       8.0       8.0       8.0       8.0       8.0  \n",
              "4       8.0       8.0       8.0       8.0       8.0  \n",
              "\n",
              "[5 rows x 333 columns]"
            ],
            "text/html": [
              "\n",
              "  <div id=\"df-324900cf-64ed-4696-af6c-e5a3417ba178\" class=\"colab-df-container\">\n",
              "    <div>\n",
              "<style scoped>\n",
              "    .dataframe tbody tr th:only-of-type {\n",
              "        vertical-align: middle;\n",
              "    }\n",
              "\n",
              "    .dataframe tbody tr th {\n",
              "        vertical-align: top;\n",
              "    }\n",
              "\n",
              "    .dataframe thead th {\n",
              "        text-align: right;\n",
              "    }\n",
              "</style>\n",
              "<table border=\"1\" class=\"dataframe\">\n",
              "  <thead>\n",
              "    <tr style=\"text-align: right;\">\n",
              "      <th></th>\n",
              "      <th>M2ID</th>\n",
              "      <th>M2FAMNUM</th>\n",
              "      <th>SAMPLMAJ</th>\n",
              "      <th>A1PAGE_M2</th>\n",
              "      <th>B1PGENDER</th>\n",
              "      <th>A2DIDDAY</th>\n",
              "      <th>A2DDAY</th>\n",
              "      <th>A2DIYEAR</th>\n",
              "      <th>A2DIMON</th>\n",
              "      <th>A2DAMPM</th>\n",
              "      <th>...</th>\n",
              "      <th>A2DSYMAV</th>\n",
              "      <th>A2DSEVAV</th>\n",
              "      <th>A2DXFCAV</th>\n",
              "      <th>A2DXFDAV</th>\n",
              "      <th>A2DXFEAV</th>\n",
              "      <th>A2DXFFAV</th>\n",
              "      <th>A2DXFGAV</th>\n",
              "      <th>A2DXFHAV</th>\n",
              "      <th>A2DXFIAV</th>\n",
              "      <th>A2DXFJAV</th>\n",
              "    </tr>\n",
              "  </thead>\n",
              "  <tbody>\n",
              "    <tr>\n",
              "      <th>0</th>\n",
              "      <td>10013</td>\n",
              "      <td>100004</td>\n",
              "      <td>1</td>\n",
              "      <td>27</td>\n",
              "      <td>1</td>\n",
              "      <td>100131</td>\n",
              "      <td>1</td>\n",
              "      <td>1996</td>\n",
              "      <td>8</td>\n",
              "      <td>1</td>\n",
              "      <td>...</td>\n",
              "      <td>0.0</td>\n",
              "      <td>8.0</td>\n",
              "      <td>8.0</td>\n",
              "      <td>8.0</td>\n",
              "      <td>8.0</td>\n",
              "      <td>8.0</td>\n",
              "      <td>8.0</td>\n",
              "      <td>8.0</td>\n",
              "      <td>8.0</td>\n",
              "      <td>8.0</td>\n",
              "    </tr>\n",
              "    <tr>\n",
              "      <th>1</th>\n",
              "      <td>10013</td>\n",
              "      <td>100004</td>\n",
              "      <td>1</td>\n",
              "      <td>27</td>\n",
              "      <td>1</td>\n",
              "      <td>100132</td>\n",
              "      <td>2</td>\n",
              "      <td>1996</td>\n",
              "      <td>8</td>\n",
              "      <td>1</td>\n",
              "      <td>...</td>\n",
              "      <td>0.2</td>\n",
              "      <td>2.0</td>\n",
              "      <td>2.0</td>\n",
              "      <td>8.0</td>\n",
              "      <td>8.0</td>\n",
              "      <td>8.0</td>\n",
              "      <td>8.0</td>\n",
              "      <td>8.0</td>\n",
              "      <td>8.0</td>\n",
              "      <td>8.0</td>\n",
              "    </tr>\n",
              "    <tr>\n",
              "      <th>2</th>\n",
              "      <td>10013</td>\n",
              "      <td>100004</td>\n",
              "      <td>1</td>\n",
              "      <td>27</td>\n",
              "      <td>1</td>\n",
              "      <td>100134</td>\n",
              "      <td>4</td>\n",
              "      <td>1996</td>\n",
              "      <td>8</td>\n",
              "      <td>1</td>\n",
              "      <td>...</td>\n",
              "      <td>0.0</td>\n",
              "      <td>8.0</td>\n",
              "      <td>8.0</td>\n",
              "      <td>8.0</td>\n",
              "      <td>8.0</td>\n",
              "      <td>8.0</td>\n",
              "      <td>8.0</td>\n",
              "      <td>8.0</td>\n",
              "      <td>8.0</td>\n",
              "      <td>8.0</td>\n",
              "    </tr>\n",
              "    <tr>\n",
              "      <th>3</th>\n",
              "      <td>10013</td>\n",
              "      <td>100004</td>\n",
              "      <td>1</td>\n",
              "      <td>27</td>\n",
              "      <td>1</td>\n",
              "      <td>100137</td>\n",
              "      <td>7</td>\n",
              "      <td>1996</td>\n",
              "      <td>8</td>\n",
              "      <td>1</td>\n",
              "      <td>...</td>\n",
              "      <td>0.0</td>\n",
              "      <td>8.0</td>\n",
              "      <td>8.0</td>\n",
              "      <td>8.0</td>\n",
              "      <td>8.0</td>\n",
              "      <td>8.0</td>\n",
              "      <td>8.0</td>\n",
              "      <td>8.0</td>\n",
              "      <td>8.0</td>\n",
              "      <td>8.0</td>\n",
              "    </tr>\n",
              "    <tr>\n",
              "      <th>4</th>\n",
              "      <td>10013</td>\n",
              "      <td>100004</td>\n",
              "      <td>1</td>\n",
              "      <td>27</td>\n",
              "      <td>1</td>\n",
              "      <td>100138</td>\n",
              "      <td>8</td>\n",
              "      <td>1996</td>\n",
              "      <td>8</td>\n",
              "      <td>1</td>\n",
              "      <td>...</td>\n",
              "      <td>0.4</td>\n",
              "      <td>8.0</td>\n",
              "      <td>8.0</td>\n",
              "      <td>8.0</td>\n",
              "      <td>8.0</td>\n",
              "      <td>8.0</td>\n",
              "      <td>8.0</td>\n",
              "      <td>8.0</td>\n",
              "      <td>8.0</td>\n",
              "      <td>8.0</td>\n",
              "    </tr>\n",
              "  </tbody>\n",
              "</table>\n",
              "<p>5 rows × 333 columns</p>\n",
              "</div>\n",
              "    <div class=\"colab-df-buttons\">\n",
              "\n",
              "  <div class=\"colab-df-container\">\n",
              "    <button class=\"colab-df-convert\" onclick=\"convertToInteractive('df-324900cf-64ed-4696-af6c-e5a3417ba178')\"\n",
              "            title=\"Convert this dataframe to an interactive table.\"\n",
              "            style=\"display:none;\">\n",
              "\n",
              "  <svg xmlns=\"http://www.w3.org/2000/svg\" height=\"24px\" viewBox=\"0 -960 960 960\">\n",
              "    <path d=\"M120-120v-720h720v720H120Zm60-500h600v-160H180v160Zm220 220h160v-160H400v160Zm0 220h160v-160H400v160ZM180-400h160v-160H180v160Zm440 0h160v-160H620v160ZM180-180h160v-160H180v160Zm440 0h160v-160H620v160Z\"/>\n",
              "  </svg>\n",
              "    </button>\n",
              "\n",
              "  <style>\n",
              "    .colab-df-container {\n",
              "      display:flex;\n",
              "      gap: 12px;\n",
              "    }\n",
              "\n",
              "    .colab-df-convert {\n",
              "      background-color: #E8F0FE;\n",
              "      border: none;\n",
              "      border-radius: 50%;\n",
              "      cursor: pointer;\n",
              "      display: none;\n",
              "      fill: #1967D2;\n",
              "      height: 32px;\n",
              "      padding: 0 0 0 0;\n",
              "      width: 32px;\n",
              "    }\n",
              "\n",
              "    .colab-df-convert:hover {\n",
              "      background-color: #E2EBFA;\n",
              "      box-shadow: 0px 1px 2px rgba(60, 64, 67, 0.3), 0px 1px 3px 1px rgba(60, 64, 67, 0.15);\n",
              "      fill: #174EA6;\n",
              "    }\n",
              "\n",
              "    .colab-df-buttons div {\n",
              "      margin-bottom: 4px;\n",
              "    }\n",
              "\n",
              "    [theme=dark] .colab-df-convert {\n",
              "      background-color: #3B4455;\n",
              "      fill: #D2E3FC;\n",
              "    }\n",
              "\n",
              "    [theme=dark] .colab-df-convert:hover {\n",
              "      background-color: #434B5C;\n",
              "      box-shadow: 0px 1px 3px 1px rgba(0, 0, 0, 0.15);\n",
              "      filter: drop-shadow(0px 1px 2px rgba(0, 0, 0, 0.3));\n",
              "      fill: #FFFFFF;\n",
              "    }\n",
              "  </style>\n",
              "\n",
              "    <script>\n",
              "      const buttonEl =\n",
              "        document.querySelector('#df-324900cf-64ed-4696-af6c-e5a3417ba178 button.colab-df-convert');\n",
              "      buttonEl.style.display =\n",
              "        google.colab.kernel.accessAllowed ? 'block' : 'none';\n",
              "\n",
              "      async function convertToInteractive(key) {\n",
              "        const element = document.querySelector('#df-324900cf-64ed-4696-af6c-e5a3417ba178');\n",
              "        const dataTable =\n",
              "          await google.colab.kernel.invokeFunction('convertToInteractive',\n",
              "                                                    [key], {});\n",
              "        if (!dataTable) return;\n",
              "\n",
              "        const docLinkHtml = 'Like what you see? Visit the ' +\n",
              "          '<a target=\"_blank\" href=https://colab.research.google.com/notebooks/data_table.ipynb>data table notebook</a>'\n",
              "          + ' to learn more about interactive tables.';\n",
              "        element.innerHTML = '';\n",
              "        dataTable['output_type'] = 'display_data';\n",
              "        await google.colab.output.renderOutput(dataTable, element);\n",
              "        const docLink = document.createElement('div');\n",
              "        docLink.innerHTML = docLinkHtml;\n",
              "        element.appendChild(docLink);\n",
              "      }\n",
              "    </script>\n",
              "  </div>\n",
              "\n",
              "\n",
              "<div id=\"df-a10d46b3-9b62-4cc4-a041-0543b6833d1d\">\n",
              "  <button class=\"colab-df-quickchart\" onclick=\"quickchart('df-a10d46b3-9b62-4cc4-a041-0543b6833d1d')\"\n",
              "            title=\"Suggest charts\"\n",
              "            style=\"display:none;\">\n",
              "\n",
              "<svg xmlns=\"http://www.w3.org/2000/svg\" height=\"24px\"viewBox=\"0 0 24 24\"\n",
              "     width=\"24px\">\n",
              "    <g>\n",
              "        <path d=\"M19 3H5c-1.1 0-2 .9-2 2v14c0 1.1.9 2 2 2h14c1.1 0 2-.9 2-2V5c0-1.1-.9-2-2-2zM9 17H7v-7h2v7zm4 0h-2V7h2v10zm4 0h-2v-4h2v4z\"/>\n",
              "    </g>\n",
              "</svg>\n",
              "  </button>\n",
              "\n",
              "<style>\n",
              "  .colab-df-quickchart {\n",
              "      --bg-color: #E8F0FE;\n",
              "      --fill-color: #1967D2;\n",
              "      --hover-bg-color: #E2EBFA;\n",
              "      --hover-fill-color: #174EA6;\n",
              "      --disabled-fill-color: #AAA;\n",
              "      --disabled-bg-color: #DDD;\n",
              "  }\n",
              "\n",
              "  [theme=dark] .colab-df-quickchart {\n",
              "      --bg-color: #3B4455;\n",
              "      --fill-color: #D2E3FC;\n",
              "      --hover-bg-color: #434B5C;\n",
              "      --hover-fill-color: #FFFFFF;\n",
              "      --disabled-bg-color: #3B4455;\n",
              "      --disabled-fill-color: #666;\n",
              "  }\n",
              "\n",
              "  .colab-df-quickchart {\n",
              "    background-color: var(--bg-color);\n",
              "    border: none;\n",
              "    border-radius: 50%;\n",
              "    cursor: pointer;\n",
              "    display: none;\n",
              "    fill: var(--fill-color);\n",
              "    height: 32px;\n",
              "    padding: 0;\n",
              "    width: 32px;\n",
              "  }\n",
              "\n",
              "  .colab-df-quickchart:hover {\n",
              "    background-color: var(--hover-bg-color);\n",
              "    box-shadow: 0 1px 2px rgba(60, 64, 67, 0.3), 0 1px 3px 1px rgba(60, 64, 67, 0.15);\n",
              "    fill: var(--button-hover-fill-color);\n",
              "  }\n",
              "\n",
              "  .colab-df-quickchart-complete:disabled,\n",
              "  .colab-df-quickchart-complete:disabled:hover {\n",
              "    background-color: var(--disabled-bg-color);\n",
              "    fill: var(--disabled-fill-color);\n",
              "    box-shadow: none;\n",
              "  }\n",
              "\n",
              "  .colab-df-spinner {\n",
              "    border: 2px solid var(--fill-color);\n",
              "    border-color: transparent;\n",
              "    border-bottom-color: var(--fill-color);\n",
              "    animation:\n",
              "      spin 1s steps(1) infinite;\n",
              "  }\n",
              "\n",
              "  @keyframes spin {\n",
              "    0% {\n",
              "      border-color: transparent;\n",
              "      border-bottom-color: var(--fill-color);\n",
              "      border-left-color: var(--fill-color);\n",
              "    }\n",
              "    20% {\n",
              "      border-color: transparent;\n",
              "      border-left-color: var(--fill-color);\n",
              "      border-top-color: var(--fill-color);\n",
              "    }\n",
              "    30% {\n",
              "      border-color: transparent;\n",
              "      border-left-color: var(--fill-color);\n",
              "      border-top-color: var(--fill-color);\n",
              "      border-right-color: var(--fill-color);\n",
              "    }\n",
              "    40% {\n",
              "      border-color: transparent;\n",
              "      border-right-color: var(--fill-color);\n",
              "      border-top-color: var(--fill-color);\n",
              "    }\n",
              "    60% {\n",
              "      border-color: transparent;\n",
              "      border-right-color: var(--fill-color);\n",
              "    }\n",
              "    80% {\n",
              "      border-color: transparent;\n",
              "      border-right-color: var(--fill-color);\n",
              "      border-bottom-color: var(--fill-color);\n",
              "    }\n",
              "    90% {\n",
              "      border-color: transparent;\n",
              "      border-bottom-color: var(--fill-color);\n",
              "    }\n",
              "  }\n",
              "</style>\n",
              "\n",
              "  <script>\n",
              "    async function quickchart(key) {\n",
              "      const quickchartButtonEl =\n",
              "        document.querySelector('#' + key + ' button');\n",
              "      quickchartButtonEl.disabled = true;  // To prevent multiple clicks.\n",
              "      quickchartButtonEl.classList.add('colab-df-spinner');\n",
              "      try {\n",
              "        const charts = await google.colab.kernel.invokeFunction(\n",
              "            'suggestCharts', [key], {});\n",
              "      } catch (error) {\n",
              "        console.error('Error during call to suggestCharts:', error);\n",
              "      }\n",
              "      quickchartButtonEl.classList.remove('colab-df-spinner');\n",
              "      quickchartButtonEl.classList.add('colab-df-quickchart-complete');\n",
              "    }\n",
              "    (() => {\n",
              "      let quickchartButtonEl =\n",
              "        document.querySelector('#df-a10d46b3-9b62-4cc4-a041-0543b6833d1d button');\n",
              "      quickchartButtonEl.style.display =\n",
              "        google.colab.kernel.accessAllowed ? 'block' : 'none';\n",
              "    })();\n",
              "  </script>\n",
              "</div>\n",
              "\n",
              "    </div>\n",
              "  </div>\n"
            ],
            "application/vnd.google.colaboratory.intrinsic+json": {
              "type": "dataframe",
              "variable_name": "df"
            }
          },
          "metadata": {},
          "execution_count": 20
        }
      ]
    },
    {
      "cell_type": "code",
      "source": [
        "df.shape"
      ],
      "metadata": {
        "colab": {
          "base_uri": "https://localhost:8080/"
        },
        "id": "aYfJwxBVtnS_",
        "outputId": "8b3f8df0-bf0e-4f85-f9b8-0a4985720762"
      },
      "execution_count": null,
      "outputs": [
        {
          "output_type": "execute_result",
          "data": {
            "text/plain": [
              "(10488, 333)"
            ]
          },
          "metadata": {},
          "execution_count": 21
        }
      ]
    },
    {
      "cell_type": "code",
      "source": [
        "list[df.select_dtypes(include=['float','int']).columns]"
      ],
      "metadata": {
        "colab": {
          "base_uri": "https://localhost:8080/"
        },
        "id": "vNv0BgWEzf74",
        "outputId": "edd3ba28-ffc5-42cd-9f20-f27342735875"
      },
      "execution_count": null,
      "outputs": [
        {
          "output_type": "execute_result",
          "data": {
            "text/plain": [
              "list[Index(['M2ID', 'M2FAMNUM', 'SAMPLMAJ', 'A1PAGE_M2', 'B1PGENDER', 'A2DIDDAY',\n",
              "       'A2DDAY', 'A2DAMPM', 'A2DSTAT', 'A2DWEEKD',\n",
              "       ...\n",
              "       'A2DSYMAV', 'A2DSEVAV', 'A2DXFCAV', 'A2DXFDAV', 'A2DXFEAV', 'A2DXFFAV',\n",
              "       'A2DXFGAV', 'A2DXFHAV', 'A2DXFIAV', 'A2DXFJAV'],\n",
              "      dtype='object', length=331)]"
            ]
          },
          "metadata": {},
          "execution_count": 23
        }
      ]
    },
    {
      "cell_type": "code",
      "source": [
        "list[df.select_dtypes(include=['object']).columns]"
      ],
      "metadata": {
        "id": "kSzQtPu_z5Ll",
        "colab": {
          "base_uri": "https://localhost:8080/"
        },
        "outputId": "e7f7b96c-371c-4baa-d791-ce2c28d15a83"
      },
      "execution_count": null,
      "outputs": [
        {
          "output_type": "execute_result",
          "data": {
            "text/plain": [
              "list[Index(['A2DIYEAR', 'A2DIMON'], dtype='object')]"
            ]
          },
          "metadata": {},
          "execution_count": 24
        }
      ]
    },
    {
      "cell_type": "code",
      "source": [
        "df['A2DIYEAR'].unique()"
      ],
      "metadata": {
        "colab": {
          "base_uri": "https://localhost:8080/"
        },
        "id": "ScQqhr1_yreo",
        "outputId": "ffdc548e-0783-417b-9263-33dff1d5d2c9"
      },
      "execution_count": null,
      "outputs": [
        {
          "output_type": "execute_result",
          "data": {
            "text/plain": [
              "array([1996, 1997, '1996', '1997', ' '], dtype=object)"
            ]
          },
          "metadata": {},
          "execution_count": 25
        }
      ]
    },
    {
      "cell_type": "code",
      "source": [
        "nan_count = df.isnull().sum()\n",
        "nan_count"
      ],
      "metadata": {
        "colab": {
          "base_uri": "https://localhost:8080/",
          "height": 458
        },
        "id": "csvdkg8R4APr",
        "outputId": "6404f85b-a6a7-4610-c293-bf91f957a59a"
      },
      "execution_count": null,
      "outputs": [
        {
          "output_type": "execute_result",
          "data": {
            "text/plain": [
              "M2ID         0\n",
              "M2FAMNUM     0\n",
              "SAMPLMAJ     0\n",
              "A1PAGE_M2    0\n",
              "B1PGENDER    0\n",
              "            ..\n",
              "A2DXFFAV     0\n",
              "A2DXFGAV     0\n",
              "A2DXFHAV     0\n",
              "A2DXFIAV     0\n",
              "A2DXFJAV     0\n",
              "Length: 333, dtype: int64"
            ],
            "text/html": [
              "<div>\n",
              "<style scoped>\n",
              "    .dataframe tbody tr th:only-of-type {\n",
              "        vertical-align: middle;\n",
              "    }\n",
              "\n",
              "    .dataframe tbody tr th {\n",
              "        vertical-align: top;\n",
              "    }\n",
              "\n",
              "    .dataframe thead th {\n",
              "        text-align: right;\n",
              "    }\n",
              "</style>\n",
              "<table border=\"1\" class=\"dataframe\">\n",
              "  <thead>\n",
              "    <tr style=\"text-align: right;\">\n",
              "      <th></th>\n",
              "      <th>0</th>\n",
              "    </tr>\n",
              "  </thead>\n",
              "  <tbody>\n",
              "    <tr>\n",
              "      <th>M2ID</th>\n",
              "      <td>0</td>\n",
              "    </tr>\n",
              "    <tr>\n",
              "      <th>M2FAMNUM</th>\n",
              "      <td>0</td>\n",
              "    </tr>\n",
              "    <tr>\n",
              "      <th>SAMPLMAJ</th>\n",
              "      <td>0</td>\n",
              "    </tr>\n",
              "    <tr>\n",
              "      <th>A1PAGE_M2</th>\n",
              "      <td>0</td>\n",
              "    </tr>\n",
              "    <tr>\n",
              "      <th>B1PGENDER</th>\n",
              "      <td>0</td>\n",
              "    </tr>\n",
              "    <tr>\n",
              "      <th>...</th>\n",
              "      <td>...</td>\n",
              "    </tr>\n",
              "    <tr>\n",
              "      <th>A2DXFFAV</th>\n",
              "      <td>0</td>\n",
              "    </tr>\n",
              "    <tr>\n",
              "      <th>A2DXFGAV</th>\n",
              "      <td>0</td>\n",
              "    </tr>\n",
              "    <tr>\n",
              "      <th>A2DXFHAV</th>\n",
              "      <td>0</td>\n",
              "    </tr>\n",
              "    <tr>\n",
              "      <th>A2DXFIAV</th>\n",
              "      <td>0</td>\n",
              "    </tr>\n",
              "    <tr>\n",
              "      <th>A2DXFJAV</th>\n",
              "      <td>0</td>\n",
              "    </tr>\n",
              "  </tbody>\n",
              "</table>\n",
              "<p>333 rows × 1 columns</p>\n",
              "</div><br><label><b>dtype:</b> int64</label>"
            ]
          },
          "metadata": {},
          "execution_count": 26
        }
      ]
    },
    {
      "cell_type": "code",
      "source": [
        "df.select_dtypes(include=['object']).columns.tolist()\n"
      ],
      "metadata": {
        "colab": {
          "base_uri": "https://localhost:8080/"
        },
        "id": "Fv_r6hK44O_S",
        "outputId": "8054153e-e779-4402-9587-bb46a3504ede"
      },
      "execution_count": null,
      "outputs": [
        {
          "output_type": "execute_result",
          "data": {
            "text/plain": [
              "['A2DIYEAR', 'A2DIMON']"
            ]
          },
          "metadata": {},
          "execution_count": 27
        }
      ]
    },
    {
      "cell_type": "code",
      "source": [
        "obj_columns = ['A2DIYEAR', 'A2DIMON']\n",
        "df[obj_columns]\n"
      ],
      "metadata": {
        "colab": {
          "base_uri": "https://localhost:8080/",
          "height": 423
        },
        "id": "gsydoLac4mT6",
        "outputId": "2d0fa7ff-cf95-4fa4-a1a7-73fa5b71baf7"
      },
      "execution_count": null,
      "outputs": [
        {
          "output_type": "execute_result",
          "data": {
            "text/plain": [
              "      A2DIYEAR A2DIMON\n",
              "0         1996       8\n",
              "1         1996       8\n",
              "2         1996       8\n",
              "3         1996       8\n",
              "4         1996       8\n",
              "...        ...     ...\n",
              "10483     1996      12\n",
              "10484     1996      12\n",
              "10485     1996      12\n",
              "10486     1996      12\n",
              "10487     1996      12\n",
              "\n",
              "[10488 rows x 2 columns]"
            ],
            "text/html": [
              "\n",
              "  <div id=\"df-5056f519-c08f-40ea-9d0b-d15a3271587f\" class=\"colab-df-container\">\n",
              "    <div>\n",
              "<style scoped>\n",
              "    .dataframe tbody tr th:only-of-type {\n",
              "        vertical-align: middle;\n",
              "    }\n",
              "\n",
              "    .dataframe tbody tr th {\n",
              "        vertical-align: top;\n",
              "    }\n",
              "\n",
              "    .dataframe thead th {\n",
              "        text-align: right;\n",
              "    }\n",
              "</style>\n",
              "<table border=\"1\" class=\"dataframe\">\n",
              "  <thead>\n",
              "    <tr style=\"text-align: right;\">\n",
              "      <th></th>\n",
              "      <th>A2DIYEAR</th>\n",
              "      <th>A2DIMON</th>\n",
              "    </tr>\n",
              "  </thead>\n",
              "  <tbody>\n",
              "    <tr>\n",
              "      <th>0</th>\n",
              "      <td>1996</td>\n",
              "      <td>8</td>\n",
              "    </tr>\n",
              "    <tr>\n",
              "      <th>1</th>\n",
              "      <td>1996</td>\n",
              "      <td>8</td>\n",
              "    </tr>\n",
              "    <tr>\n",
              "      <th>2</th>\n",
              "      <td>1996</td>\n",
              "      <td>8</td>\n",
              "    </tr>\n",
              "    <tr>\n",
              "      <th>3</th>\n",
              "      <td>1996</td>\n",
              "      <td>8</td>\n",
              "    </tr>\n",
              "    <tr>\n",
              "      <th>4</th>\n",
              "      <td>1996</td>\n",
              "      <td>8</td>\n",
              "    </tr>\n",
              "    <tr>\n",
              "      <th>...</th>\n",
              "      <td>...</td>\n",
              "      <td>...</td>\n",
              "    </tr>\n",
              "    <tr>\n",
              "      <th>10483</th>\n",
              "      <td>1996</td>\n",
              "      <td>12</td>\n",
              "    </tr>\n",
              "    <tr>\n",
              "      <th>10484</th>\n",
              "      <td>1996</td>\n",
              "      <td>12</td>\n",
              "    </tr>\n",
              "    <tr>\n",
              "      <th>10485</th>\n",
              "      <td>1996</td>\n",
              "      <td>12</td>\n",
              "    </tr>\n",
              "    <tr>\n",
              "      <th>10486</th>\n",
              "      <td>1996</td>\n",
              "      <td>12</td>\n",
              "    </tr>\n",
              "    <tr>\n",
              "      <th>10487</th>\n",
              "      <td>1996</td>\n",
              "      <td>12</td>\n",
              "    </tr>\n",
              "  </tbody>\n",
              "</table>\n",
              "<p>10488 rows × 2 columns</p>\n",
              "</div>\n",
              "    <div class=\"colab-df-buttons\">\n",
              "\n",
              "  <div class=\"colab-df-container\">\n",
              "    <button class=\"colab-df-convert\" onclick=\"convertToInteractive('df-5056f519-c08f-40ea-9d0b-d15a3271587f')\"\n",
              "            title=\"Convert this dataframe to an interactive table.\"\n",
              "            style=\"display:none;\">\n",
              "\n",
              "  <svg xmlns=\"http://www.w3.org/2000/svg\" height=\"24px\" viewBox=\"0 -960 960 960\">\n",
              "    <path d=\"M120-120v-720h720v720H120Zm60-500h600v-160H180v160Zm220 220h160v-160H400v160Zm0 220h160v-160H400v160ZM180-400h160v-160H180v160Zm440 0h160v-160H620v160ZM180-180h160v-160H180v160Zm440 0h160v-160H620v160Z\"/>\n",
              "  </svg>\n",
              "    </button>\n",
              "\n",
              "  <style>\n",
              "    .colab-df-container {\n",
              "      display:flex;\n",
              "      gap: 12px;\n",
              "    }\n",
              "\n",
              "    .colab-df-convert {\n",
              "      background-color: #E8F0FE;\n",
              "      border: none;\n",
              "      border-radius: 50%;\n",
              "      cursor: pointer;\n",
              "      display: none;\n",
              "      fill: #1967D2;\n",
              "      height: 32px;\n",
              "      padding: 0 0 0 0;\n",
              "      width: 32px;\n",
              "    }\n",
              "\n",
              "    .colab-df-convert:hover {\n",
              "      background-color: #E2EBFA;\n",
              "      box-shadow: 0px 1px 2px rgba(60, 64, 67, 0.3), 0px 1px 3px 1px rgba(60, 64, 67, 0.15);\n",
              "      fill: #174EA6;\n",
              "    }\n",
              "\n",
              "    .colab-df-buttons div {\n",
              "      margin-bottom: 4px;\n",
              "    }\n",
              "\n",
              "    [theme=dark] .colab-df-convert {\n",
              "      background-color: #3B4455;\n",
              "      fill: #D2E3FC;\n",
              "    }\n",
              "\n",
              "    [theme=dark] .colab-df-convert:hover {\n",
              "      background-color: #434B5C;\n",
              "      box-shadow: 0px 1px 3px 1px rgba(0, 0, 0, 0.15);\n",
              "      filter: drop-shadow(0px 1px 2px rgba(0, 0, 0, 0.3));\n",
              "      fill: #FFFFFF;\n",
              "    }\n",
              "  </style>\n",
              "\n",
              "    <script>\n",
              "      const buttonEl =\n",
              "        document.querySelector('#df-5056f519-c08f-40ea-9d0b-d15a3271587f button.colab-df-convert');\n",
              "      buttonEl.style.display =\n",
              "        google.colab.kernel.accessAllowed ? 'block' : 'none';\n",
              "\n",
              "      async function convertToInteractive(key) {\n",
              "        const element = document.querySelector('#df-5056f519-c08f-40ea-9d0b-d15a3271587f');\n",
              "        const dataTable =\n",
              "          await google.colab.kernel.invokeFunction('convertToInteractive',\n",
              "                                                    [key], {});\n",
              "        if (!dataTable) return;\n",
              "\n",
              "        const docLinkHtml = 'Like what you see? Visit the ' +\n",
              "          '<a target=\"_blank\" href=https://colab.research.google.com/notebooks/data_table.ipynb>data table notebook</a>'\n",
              "          + ' to learn more about interactive tables.';\n",
              "        element.innerHTML = '';\n",
              "        dataTable['output_type'] = 'display_data';\n",
              "        await google.colab.output.renderOutput(dataTable, element);\n",
              "        const docLink = document.createElement('div');\n",
              "        docLink.innerHTML = docLinkHtml;\n",
              "        element.appendChild(docLink);\n",
              "      }\n",
              "    </script>\n",
              "  </div>\n",
              "\n",
              "\n",
              "<div id=\"df-0d174671-8cdb-483c-9951-4c770f95ec46\">\n",
              "  <button class=\"colab-df-quickchart\" onclick=\"quickchart('df-0d174671-8cdb-483c-9951-4c770f95ec46')\"\n",
              "            title=\"Suggest charts\"\n",
              "            style=\"display:none;\">\n",
              "\n",
              "<svg xmlns=\"http://www.w3.org/2000/svg\" height=\"24px\"viewBox=\"0 0 24 24\"\n",
              "     width=\"24px\">\n",
              "    <g>\n",
              "        <path d=\"M19 3H5c-1.1 0-2 .9-2 2v14c0 1.1.9 2 2 2h14c1.1 0 2-.9 2-2V5c0-1.1-.9-2-2-2zM9 17H7v-7h2v7zm4 0h-2V7h2v10zm4 0h-2v-4h2v4z\"/>\n",
              "    </g>\n",
              "</svg>\n",
              "  </button>\n",
              "\n",
              "<style>\n",
              "  .colab-df-quickchart {\n",
              "      --bg-color: #E8F0FE;\n",
              "      --fill-color: #1967D2;\n",
              "      --hover-bg-color: #E2EBFA;\n",
              "      --hover-fill-color: #174EA6;\n",
              "      --disabled-fill-color: #AAA;\n",
              "      --disabled-bg-color: #DDD;\n",
              "  }\n",
              "\n",
              "  [theme=dark] .colab-df-quickchart {\n",
              "      --bg-color: #3B4455;\n",
              "      --fill-color: #D2E3FC;\n",
              "      --hover-bg-color: #434B5C;\n",
              "      --hover-fill-color: #FFFFFF;\n",
              "      --disabled-bg-color: #3B4455;\n",
              "      --disabled-fill-color: #666;\n",
              "  }\n",
              "\n",
              "  .colab-df-quickchart {\n",
              "    background-color: var(--bg-color);\n",
              "    border: none;\n",
              "    border-radius: 50%;\n",
              "    cursor: pointer;\n",
              "    display: none;\n",
              "    fill: var(--fill-color);\n",
              "    height: 32px;\n",
              "    padding: 0;\n",
              "    width: 32px;\n",
              "  }\n",
              "\n",
              "  .colab-df-quickchart:hover {\n",
              "    background-color: var(--hover-bg-color);\n",
              "    box-shadow: 0 1px 2px rgba(60, 64, 67, 0.3), 0 1px 3px 1px rgba(60, 64, 67, 0.15);\n",
              "    fill: var(--button-hover-fill-color);\n",
              "  }\n",
              "\n",
              "  .colab-df-quickchart-complete:disabled,\n",
              "  .colab-df-quickchart-complete:disabled:hover {\n",
              "    background-color: var(--disabled-bg-color);\n",
              "    fill: var(--disabled-fill-color);\n",
              "    box-shadow: none;\n",
              "  }\n",
              "\n",
              "  .colab-df-spinner {\n",
              "    border: 2px solid var(--fill-color);\n",
              "    border-color: transparent;\n",
              "    border-bottom-color: var(--fill-color);\n",
              "    animation:\n",
              "      spin 1s steps(1) infinite;\n",
              "  }\n",
              "\n",
              "  @keyframes spin {\n",
              "    0% {\n",
              "      border-color: transparent;\n",
              "      border-bottom-color: var(--fill-color);\n",
              "      border-left-color: var(--fill-color);\n",
              "    }\n",
              "    20% {\n",
              "      border-color: transparent;\n",
              "      border-left-color: var(--fill-color);\n",
              "      border-top-color: var(--fill-color);\n",
              "    }\n",
              "    30% {\n",
              "      border-color: transparent;\n",
              "      border-left-color: var(--fill-color);\n",
              "      border-top-color: var(--fill-color);\n",
              "      border-right-color: var(--fill-color);\n",
              "    }\n",
              "    40% {\n",
              "      border-color: transparent;\n",
              "      border-right-color: var(--fill-color);\n",
              "      border-top-color: var(--fill-color);\n",
              "    }\n",
              "    60% {\n",
              "      border-color: transparent;\n",
              "      border-right-color: var(--fill-color);\n",
              "    }\n",
              "    80% {\n",
              "      border-color: transparent;\n",
              "      border-right-color: var(--fill-color);\n",
              "      border-bottom-color: var(--fill-color);\n",
              "    }\n",
              "    90% {\n",
              "      border-color: transparent;\n",
              "      border-bottom-color: var(--fill-color);\n",
              "    }\n",
              "  }\n",
              "</style>\n",
              "\n",
              "  <script>\n",
              "    async function quickchart(key) {\n",
              "      const quickchartButtonEl =\n",
              "        document.querySelector('#' + key + ' button');\n",
              "      quickchartButtonEl.disabled = true;  // To prevent multiple clicks.\n",
              "      quickchartButtonEl.classList.add('colab-df-spinner');\n",
              "      try {\n",
              "        const charts = await google.colab.kernel.invokeFunction(\n",
              "            'suggestCharts', [key], {});\n",
              "      } catch (error) {\n",
              "        console.error('Error during call to suggestCharts:', error);\n",
              "      }\n",
              "      quickchartButtonEl.classList.remove('colab-df-spinner');\n",
              "      quickchartButtonEl.classList.add('colab-df-quickchart-complete');\n",
              "    }\n",
              "    (() => {\n",
              "      let quickchartButtonEl =\n",
              "        document.querySelector('#df-0d174671-8cdb-483c-9951-4c770f95ec46 button');\n",
              "      quickchartButtonEl.style.display =\n",
              "        google.colab.kernel.accessAllowed ? 'block' : 'none';\n",
              "    })();\n",
              "  </script>\n",
              "</div>\n",
              "\n",
              "    </div>\n",
              "  </div>\n"
            ],
            "application/vnd.google.colaboratory.intrinsic+json": {
              "type": "dataframe",
              "summary": "{\n  \"name\": \"df[obj_columns]\",\n  \"rows\": 10488,\n  \"fields\": [\n    {\n      \"column\": \"A2DIYEAR\",\n      \"properties\": {\n        \"dtype\": \"category\",\n        \"num_unique_values\": 5,\n        \"samples\": [\n          1997,\n          \" \",\n          \"1996\"\n        ],\n        \"semantic_type\": \"\",\n        \"description\": \"\"\n      }\n    },\n    {\n      \"column\": \"A2DIMON\",\n      \"properties\": {\n        \"dtype\": \"category\",\n        \"num_unique_values\": 25,\n        \"samples\": [\n          3,\n          \"8\",\n          8\n        ],\n        \"semantic_type\": \"\",\n        \"description\": \"\"\n      }\n    }\n  ]\n}"
            }
          },
          "metadata": {},
          "execution_count": 28
        }
      ]
    },
    {
      "cell_type": "code",
      "source": [
        "df['A2DIYEAR'].unique()"
      ],
      "metadata": {
        "colab": {
          "base_uri": "https://localhost:8080/"
        },
        "id": "ksKwEPr-4y_s",
        "outputId": "47f161e6-9595-4cee-ae66-7d75a48329d8"
      },
      "execution_count": null,
      "outputs": [
        {
          "output_type": "execute_result",
          "data": {
            "text/plain": [
              "array([1996, 1997, '1996', '1997', ' '], dtype=object)"
            ]
          },
          "metadata": {},
          "execution_count": 29
        }
      ]
    },
    {
      "cell_type": "code",
      "source": [
        "df.dropna(inplace=True)\n"
      ],
      "metadata": {
        "id": "LOGJgiwY5I_3"
      },
      "execution_count": null,
      "outputs": []
    },
    {
      "cell_type": "code",
      "source": [
        "df['A2DIYEAR'].unique()"
      ],
      "metadata": {
        "colab": {
          "base_uri": "https://localhost:8080/"
        },
        "id": "fF36LKA96O85",
        "outputId": "0d9480f3-7ec8-4150-8a80-cf7c8060bc42"
      },
      "execution_count": null,
      "outputs": [
        {
          "output_type": "execute_result",
          "data": {
            "text/plain": [
              "array([1996, 1997, '1996', '1997', ' '], dtype=object)"
            ]
          },
          "metadata": {},
          "execution_count": 31
        }
      ]
    },
    {
      "cell_type": "markdown",
      "source": [
        "Isolating the features we selected and are going to use for our project"
      ],
      "metadata": {
        "id": "Mfg01sN90Yhr"
      }
    },
    {
      "cell_type": "code",
      "source": [
        "selected_features = [\n",
        "    'B1PGENDER', 'A1PAGE_M2', 'A2DD3', 'A2DA12', 'A2DA4A',\n",
        "    'A2DI2A', 'A2DA2', 'A2DA3', 'A2DA13C', 'A2DF2J',\n",
        "    'A2DA1', 'A2DNOALC', 'A2DNOSMO', 'A2DF2', 'A2DC1',\n",
        "    'A2DI2A', 'A2DF5', 'A2DF3', 'A2DF4', 'A2DI3A',\n",
        "    'A2DF3B', 'A2DTOTST'\n",
        "]"
      ],
      "metadata": {
        "id": "skBWYzo26RaO"
      },
      "execution_count": null,
      "outputs": []
    },
    {
      "cell_type": "markdown",
      "source": [
        "Placing these features in their own dataframe"
      ],
      "metadata": {
        "id": "gSAlJ24Q1Bhq"
      }
    },
    {
      "cell_type": "code",
      "source": [
        "df_selected = df[selected_features]"
      ],
      "metadata": {
        "id": "XM8LS6mF0i2h"
      },
      "execution_count": null,
      "outputs": []
    },
    {
      "cell_type": "code",
      "source": [
        "print(df_selected.head())\n",
        "df_selected.shape"
      ],
      "metadata": {
        "colab": {
          "base_uri": "https://localhost:8080/"
        },
        "id": "PaPgciEm0pVY",
        "outputId": "66ae1053-66ba-4ba3-876f-b844304cb568"
      },
      "execution_count": null,
      "outputs": [
        {
          "output_type": "stream",
          "name": "stdout",
          "text": [
            "   B1PGENDER  A1PAGE_M2  A2DD3  A2DA12  A2DA4A  A2DI2A  A2DA2  A2DA3  A2DA13C  \\\n",
            "0          1         27      2       2     1.0       9    0.5    0.0     99.0   \n",
            "1          1         27      2       2     0.0       9    1.0    0.0     99.0   \n",
            "2          1         27      2       2     0.0       9    1.0    0.0     99.0   \n",
            "3          1         27      2       2     0.5       9    1.0    0.0     99.0   \n",
            "4          1         27      2       2     0.0       9    0.5    9.0     99.0   \n",
            "\n",
            "   A2DF2J  ...  A2DNOSMO  A2DF2  A2DC1  A2DI2A  A2DF5  A2DF3  A2DF4  A2DI3A  \\\n",
            "0       9  ...         8      2      5       9      2      2      2       9   \n",
            "1       9  ...         2      1      5       9      2      2      2       9   \n",
            "2       9  ...         2      2      5       9      2      2      2       9   \n",
            "3       9  ...         2      2      5       9      2      2      2       9   \n",
            "4       9  ...         2      2      5       9      2      2      2       9   \n",
            "\n",
            "   A2DF3B  A2DTOTST  \n",
            "0       9         0  \n",
            "1       9         1  \n",
            "2       9         0  \n",
            "3       9         0  \n",
            "4       9         0  \n",
            "\n",
            "[5 rows x 22 columns]\n"
          ]
        },
        {
          "output_type": "execute_result",
          "data": {
            "text/plain": [
              "(10488, 22)"
            ]
          },
          "metadata": {},
          "execution_count": 34
        }
      ]
    },
    {
      "cell_type": "code",
      "source": [
        "df_selected.rename(columns={\n",
        "    'B1PGENDER': 'Gender',\n",
        "    'A1PAGE_M2': 'Age',\n",
        "    'A2DD3': 'Less_Time_With_People',\n",
        "    'A2DA12': 'Emotional_Support_Given',\n",
        "    'A2DA4A': 'Vigorous_Exercise_Time',\n",
        "    'A2DI2A': 'Health_Problems_7_Days',\n",
        "    'A2DA4': 'Time_Spent_Relaxing',\n",
        "    'A2DA2': 'Time_Chores',\n",
        "    'A2DA3': 'Time_Work_School',\n",
        "    'A2DA12D': 'Time_Give_Emotional_Support',\n",
        "    'A2DA13C': 'Time_Receive_Emotional_Support',\n",
        "    'A2DF2J': 'Risk_Disagreement_Plans',\n",
        "    'A2DA1': 'Time_With_Children',\n",
        "    'A2DNOALC': 'Never_Alcohol',\n",
        "    'A2DNOSMO': 'Never_Smokes',\n",
        "    'A2DF2': 'Avoided_Disagreement',\n",
        "    'A2DC1': 'Depressed',\n",
        "    'A2DF5': 'Discrimination',\n",
        "    'A2DA5': 'Time_Sleeping',\n",
        "    'A2DF3': 'Work_School_Stressors',\n",
        "    'A2DF4': 'Home_Stressors',\n",
        "    'A2DI3A': 'Stress_Level_7_Days',\n",
        "    'A2DF3B': 'Stress_Intensity',\n",
        "    'A2DTOTST': 'Summed_Stressors_Per_Day'\n",
        "}, inplace=True)\n",
        "\n",
        "print(df_selected.head())\n"
      ],
      "metadata": {
        "colab": {
          "base_uri": "https://localhost:8080/"
        },
        "id": "Qpprmu2N3R7S",
        "outputId": "2a0883ac-6be9-4623-f397-f30a523a11a8"
      },
      "execution_count": null,
      "outputs": [
        {
          "output_type": "stream",
          "name": "stdout",
          "text": [
            "   Gender  Age  Less_Time_With_People  Emotional_Support_Given  \\\n",
            "0       1   27                      2                        2   \n",
            "1       1   27                      2                        2   \n",
            "2       1   27                      2                        2   \n",
            "3       1   27                      2                        2   \n",
            "4       1   27                      2                        2   \n",
            "\n",
            "   Vigorous_Exercise_Time  Health_Problems_7_Days  Time_Chores  \\\n",
            "0                     1.0                       9          0.5   \n",
            "1                     0.0                       9          1.0   \n",
            "2                     0.0                       9          1.0   \n",
            "3                     0.5                       9          1.0   \n",
            "4                     0.0                       9          0.5   \n",
            "\n",
            "   Time_Work_School  Time_Receive_Emotional_Support  Risk_Disagreement_Plans  \\\n",
            "0               0.0                            99.0                        9   \n",
            "1               0.0                            99.0                        9   \n",
            "2               0.0                            99.0                        9   \n",
            "3               0.0                            99.0                        9   \n",
            "4               9.0                            99.0                        9   \n",
            "\n",
            "   ...  Never_Smokes  Avoided_Disagreement  Depressed  Health_Problems_7_Days  \\\n",
            "0  ...             8                     2          5                       9   \n",
            "1  ...             2                     1          5                       9   \n",
            "2  ...             2                     2          5                       9   \n",
            "3  ...             2                     2          5                       9   \n",
            "4  ...             2                     2          5                       9   \n",
            "\n",
            "   Discrimination  Work_School_Stressors  Home_Stressors  Stress_Level_7_Days  \\\n",
            "0               2                      2               2                    9   \n",
            "1               2                      2               2                    9   \n",
            "2               2                      2               2                    9   \n",
            "3               2                      2               2                    9   \n",
            "4               2                      2               2                    9   \n",
            "\n",
            "   Stress_Intensity  Summed_Stressors_Per_Day  \n",
            "0                 9                         0  \n",
            "1                 9                         1  \n",
            "2                 9                         0  \n",
            "3                 9                         0  \n",
            "4                 9                         0  \n",
            "\n",
            "[5 rows x 22 columns]\n"
          ]
        },
        {
          "output_type": "stream",
          "name": "stderr",
          "text": [
            "<ipython-input-39-73b598fd2e7d>:1: SettingWithCopyWarning: \n",
            "A value is trying to be set on a copy of a slice from a DataFrame\n",
            "\n",
            "See the caveats in the documentation: https://pandas.pydata.org/pandas-docs/stable/user_guide/indexing.html#returning-a-view-versus-a-copy\n",
            "  df_selected.rename(columns={\n"
          ]
        }
      ]
    },
    {
      "cell_type": "markdown",
      "source": [
        "Checking for missing data in new dataframe"
      ],
      "metadata": {
        "id": "b5GHR4T21PdA"
      }
    },
    {
      "cell_type": "code",
      "source": [
        "nan_count = np.sum(df_selected.isnull(), axis = 0)\n",
        "\n",
        "nan_count_filtered = nan_count[nan_count > 0]\n",
        "nan_count_filtered"
      ],
      "metadata": {
        "colab": {
          "base_uri": "https://localhost:8080/",
          "height": 84
        },
        "id": "MRY6BsDA1Mhy",
        "outputId": "1ce1a3ab-b830-42a1-8bc9-d7ed7b7223e2"
      },
      "execution_count": null,
      "outputs": [
        {
          "output_type": "execute_result",
          "data": {
            "text/plain": [
              "Series([], dtype: int64)"
            ],
            "text/html": [
              "<div>\n",
              "<style scoped>\n",
              "    .dataframe tbody tr th:only-of-type {\n",
              "        vertical-align: middle;\n",
              "    }\n",
              "\n",
              "    .dataframe tbody tr th {\n",
              "        vertical-align: top;\n",
              "    }\n",
              "\n",
              "    .dataframe thead th {\n",
              "        text-align: right;\n",
              "    }\n",
              "</style>\n",
              "<table border=\"1\" class=\"dataframe\">\n",
              "  <thead>\n",
              "    <tr style=\"text-align: right;\">\n",
              "      <th></th>\n",
              "      <th>0</th>\n",
              "    </tr>\n",
              "  </thead>\n",
              "  <tbody>\n",
              "  </tbody>\n",
              "</table>\n",
              "</div><br><label><b>dtype:</b> int64</label>"
            ]
          },
          "metadata": {},
          "execution_count": 40
        }
      ]
    },
    {
      "cell_type": "code",
      "source": [
        "print(df_selected.dtypes)"
      ],
      "metadata": {
        "colab": {
          "base_uri": "https://localhost:8080/"
        },
        "id": "S4lE3KY_2BGQ",
        "outputId": "e87531a0-ded5-4fef-af03-ca4c5a3c7f70"
      },
      "execution_count": null,
      "outputs": [
        {
          "output_type": "stream",
          "name": "stdout",
          "text": [
            "Gender                              int64\n",
            "Age                                 int64\n",
            "Less_Time_With_People               int64\n",
            "Emotional_Support_Given             int64\n",
            "Vigorous_Exercise_Time            float64\n",
            "Health_Problems_7_Days              int64\n",
            "Time_Chores                       float64\n",
            "Time_Work_School                  float64\n",
            "Time_Receive_Emotional_Support    float64\n",
            "Risk_Disagreement_Plans             int64\n",
            "Time_With_Children                float64\n",
            "Never_Alcohol                       int64\n",
            "Never_Smokes                        int64\n",
            "Avoided_Disagreement                int64\n",
            "Depressed                           int64\n",
            "Health_Problems_7_Days              int64\n",
            "Discrimination                      int64\n",
            "Work_School_Stressors               int64\n",
            "Home_Stressors                      int64\n",
            "Stress_Level_7_Days                 int64\n",
            "Stress_Intensity                    int64\n",
            "Summed_Stressors_Per_Day            int64\n",
            "dtype: object\n"
          ]
        }
      ]
    },
    {
      "cell_type": "code",
      "source": [
        "unique_values = df_selected.nunique()\n",
        "print(unique_values)"
      ],
      "metadata": {
        "colab": {
          "base_uri": "https://localhost:8080/"
        },
        "id": "55WHQCfC2lwf",
        "outputId": "1f70f1f7-eb42-403e-dceb-8fe52e9497cc"
      },
      "execution_count": null,
      "outputs": [
        {
          "output_type": "stream",
          "name": "stdout",
          "text": [
            "Gender                               2\n",
            "Age                                 53\n",
            "Less_Time_With_People                3\n",
            "Emotional_Support_Given              4\n",
            "Vigorous_Exercise_Time              56\n",
            "Health_Problems_7_Days               4\n",
            "Time_Spent_Work_School              61\n",
            "Time_Receiving_Emotional_Support    92\n",
            "Risk_Disagreement_Plans             50\n",
            "Time_With_Children                   7\n",
            "Alcohol_Never                       81\n",
            "No_Alcohol                           3\n",
            "No_Smoking                           3\n",
            "Avoid_Disagreement                   3\n",
            "Feel_Depressed                       6\n",
            "Health_Problems_7_Days               4\n",
            "Experienced_Discrimination           3\n",
            "Stressors_Work_School                3\n",
            "Stressors_Home                       3\n",
            "Stress_7_Days                        4\n",
            "Stress_Intensity                     5\n",
            "Total_Stressors                      9\n",
            "dtype: int64\n"
          ]
        }
      ]
    },
    {
      "cell_type": "markdown",
      "source": [
        "Detecting outliers by calculating the z-score. We set the threshold for the z-score to be 3 (standard), and we looked for rows with outliers according to this standard. We found that every row has an outlier that we will have to handle."
      ],
      "metadata": {
        "id": "dGxhmEKsFGt7"
      }
    },
    {
      "cell_type": "code",
      "source": [
        "df_numeric = df_selected.select_dtypes(include=['number'])\n",
        "df_zscores = df_numeric.apply(stats.zscore)\n",
        "\n",
        "# set threshold for outliers (z-score > 3 or z-score < -3)\n",
        "threshold = 3\n",
        "outliers = df_zscores[(df_zscores > 3) | (df_zscores < -3)]\n",
        "\n",
        "# print rows that have outliers\n",
        "outlier_rows = df_numeric[(df_zscores > 3) | (df_zscores < -3)].dropna()\n",
        "print(outlier_rows)\n",
        "df_selected.shape"
      ],
      "metadata": {
        "colab": {
          "base_uri": "https://localhost:8080/"
        },
        "id": "8RsKaiH9FKIH",
        "outputId": "9fda9962-9938-4923-ad23-75d707577ada"
      },
      "execution_count": null,
      "outputs": [
        {
          "output_type": "stream",
          "name": "stdout",
          "text": [
            "Empty DataFrame\n",
            "Columns: [Gender, Age, Less_Time_With_People, Emotional_Support_Given, Vigorous_Exercise_Time, Health_Problems_7_Days, Time_Spent_Work_School, Time_Receiving_Emotional_Support, Risk_Disagreement_Plans, Time_With_Children, Alcohol_Never, No_Alcohol, No_Smoking, Avoid_Disagreement, Feel_Depressed, Health_Problems_7_Days, Experienced_Discrimination, Stressors_Work_School, Stressors_Home, Stress_7_Days, Stress_Intensity, Total_Stressors]\n",
            "Index: []\n",
            "\n",
            "[0 rows x 22 columns]\n"
          ]
        },
        {
          "output_type": "execute_result",
          "data": {
            "text/plain": [
              "(10488, 22)"
            ]
          },
          "metadata": {},
          "execution_count": 59
        }
      ]
    },
    {
      "cell_type": "markdown",
      "source": [
        "Trying to drop the rows with outliers"
      ],
      "metadata": {
        "id": "wkw4mSKJKVKv"
      }
    },
    {
      "cell_type": "code",
      "source": [
        "df_no_outliers = df_selected[(np.abs(df_zscores) <= 3).all(axis=1)]\n",
        "df_no_outliers.shape"
      ],
      "metadata": {
        "colab": {
          "base_uri": "https://localhost:8080/"
        },
        "id": "7xDyPub2JEbE",
        "outputId": "ed864210-0350-4038-8185-e905ff7e3f0e"
      },
      "execution_count": null,
      "outputs": [
        {
          "output_type": "execute_result",
          "data": {
            "text/plain": [
              "(8149, 22)"
            ]
          },
          "metadata": {},
          "execution_count": 62
        }
      ]
    }
  ]
}